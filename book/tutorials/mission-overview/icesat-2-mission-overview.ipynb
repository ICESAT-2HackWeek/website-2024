{
 "cells": [
  {
   "cell_type": "markdown",
   "metadata": {
    "vscode": {
     "languageId": "plaintext"
    }
   },
   "source": [
    "# ICESat-2 Mission Overview\n",
    "\n",
    "The Ice Cloud, and land Elevation Satellite-2 (ICESat-2) mission is NASA's current polar-orbiting laser altimeter. Here, we present an overview of the ICESat-2 mission, mission instrumentation, and current ICESat-2 products.\n",
    "\n",
    "{download}`pdf version <./ICESat-2_mission_overview.pdf>`"
   ]
  },
  {
   "cell_type": "markdown",
   "metadata": {
    "user_expressions": []
   },
   "source": [
    "<div style=\"display: inline-flex; height: 400px; width: 100%\">\n",
    "    <div style=\"margin: auto 5px\">\n",
    "        <div style=\"text-align: center;\">\n",
    "            <h1>\n",
    "                ICESat-2 Products: from <p style=\"display:inline;color:#65FF00\">photons</p> to grids\n",
    "            </h1>\n",
    "            <p>Tyler C. Sutterley<sup>*</sup><br>\n",
    "            Polar Science Center<br>Applied Physics Laboratory<br>\n",
    "            <a href=\"mailto:tsutterl@uw.edu\" style=\"color:#65FF00\">tsutterl@uw.edu</a></p>\n",
    "        </div>\n",
    "    </div>\n",
    "</div>\n",
    "<div style=\"text-align: left;\">\n",
    "    <p><sup>∗</sup>with help and materials from ICESat-2 PSO, Science Team and collaborators</p>\n",
    "</div>"
   ]
  },
  {
   "cell_type": "markdown",
   "metadata": {
    "vscode": {
     "languageId": "plaintext"
    }
   },
   "source": [
    "<div style=\"display: inline-flex; height: 400px; width: 100%\">\n",
    "    <div style=\"text-align: center; margin: auto 5px\">\n",
    "        <h3 style=\"display:inline;color:#65FF00\">Part 1</h3><br>\n",
    "        <h1 style=\"display:inline;color:#65FF00\">Mission and Instrument Overview</h1>\n",
    "    </div>\n",
    "</div>"
   ]
  },
  {
   "cell_type": "markdown",
   "metadata": {
    "vscode": {
     "languageId": "latex"
    }
   },
   "source": [
    "<h3>ICESat-2 Science Objectives</h3>\n",
    "<div style=\"display: flex\">\n",
    "  <div style=\"width: 60%; margin: auto 5px\">\n",
    "    <ul style=\"line-height: 1.5em\">\n",
    "        <li>Quantify polar ice sheet contributions to current and recent\n",
    "        sea level change and the linkages to climate conditions</li>\n",
    "        <li>Quantify regional signatures of ice sheet changes</li>\n",
    "        <ul style=\"line-height: 1.5em\">\n",
    "          <li>Assess mechanisms driving recent changes</li>\n",
    "          <li>Improve predictive ice sheet models</li>\n",
    "        </ul>\n",
    "        <li>Estimate sea ice thickness to examine ice-ocean-atmosphere\n",
    "        exchanges of energy, mass and moisture</li>\n",
    "        <li>Measure vegetation canopy height as a basis for estimating\n",
    "        large-scale biomass and biomass change</li>\n",
    "    </ul>\n",
    "  </div>\n",
    "  <div style=\"width: 30%\">\n",
    "    <img src=\"https://raw.githubusercontent.com/tsutterley/website-2024/IS2-assets/book/tutorials/mission-overview/images/ICESAT2_wLasers.png\">\n",
    "  </div>\n",
    "</div>"
   ]
  },
  {
   "cell_type": "markdown",
   "metadata": {
    "vscode": {
     "languageId": "plaintext"
    }
   },
   "source": [
    "<h3>Advanced Topographic Laser Altimeter System (ATLAS)</h3>\n",
    "\n",
    "<div style=\"text-align: center;\">\n",
    "  <img width=\"80%\" src=\"https://raw.githubusercontent.com/tsutterley/website-2024/IS2-assets/book/tutorials/mission-overview/images/remotesensing-11-01721-g002.png\">\n",
    "</div>\n",
    "<ul style=\"line-height: 1.5em\">\n",
    "  <li>Single 10kHz 532nm laser micro-pulse &rarr; split into 6 beams</li>\n",
    "  <li>Detectors sensitive to green light returns at the single photon level</li>\n",
    "  <li>On-the-ground 3 km spacing between pairs to increase spatial coverage</li>\n",
    "  <li>On-the-ground 90 m pair spacing for slope determination</li>\n",
    "  <li>Different beam energies to provide dynamic range for varying surface reflectances</li>\n",
    "  <li>High-energy beams (4&times;) for better performance over low-reflectivity targets</li>\n",
    "</ul>\n",
    "\n",
    "Figure 2 from {cite}`Neuenschwander:2019hi`"
   ]
  },
  {
   "cell_type": "markdown",
   "metadata": {
    "vscode": {
     "languageId": "plaintext"
    }
   },
   "source": [
    "<h3>ATLAS Transmitter</h3>\n",
    "<div style=\"text-align: center;\">\n",
    "    <img width=\"80%\" src=\"https://raw.githubusercontent.com/tsutterley/website-2024/IS2-assets/book/tutorials/mission-overview/images/atlas_transmitter.png\">\n",
    "</div>\n",
    "\n",
    "ATL03 Algorithm Theoretical Basis Document (ATBD)"
   ]
  },
  {
   "cell_type": "markdown",
   "metadata": {
    "vscode": {
     "languageId": "plaintext"
    }
   },
   "source": [
    "<h3>ATLAS Receiver</h3>\n",
    "<div style=\"text-align: center;\">\n",
    "    <img width=\"80%\" src=\"https://raw.githubusercontent.com/tsutterley/website-2024/IS2-assets/book/tutorials/mission-overview/images/atlas_receiver.png\">\n",
    "</div>\n",
    "\n",
    "ATL03 Algorithm Theoretical Basis Document (ATBD)"
   ]
  },
  {
   "cell_type": "markdown",
   "metadata": {
    "vscode": {
     "languageId": "plaintext"
    }
   },
   "source": [
    "<h3>ATLAS Photon Timing</h3>\n",
    "<div style=\"text-align: center;\">\n",
    "    <img width=\"80%\" src=\"https://raw.githubusercontent.com/tsutterley/website-2024/IS2-assets/book/tutorials/mission-overview/images/atlas_timing.png\">\n",
    "</div>\n",
    "\n",
    "ATL03 Algorithm Theoretical Basis Document (ATBD)"
   ]
  },
  {
   "cell_type": "markdown",
   "metadata": {
    "vscode": {
     "languageId": "plaintext"
    }
   },
   "source": [
    "<div style=\"display: inline-flex\">\n",
    "    <div style=\"margin: auto 5px\">\n",
    "\t\t<h3>ICESat-2 Photon Geolocation</h3>\n",
    "\t\t<div>\n",
    "\t\t\t<h4>Position of observatory in space</h4>\n",
    "\t\t\t\t<ul>\n",
    "\t\t\t\t\t<li>Precision Orbit Determination (POD) &ndash; NASA GSFC</li>\n",
    "\t\t\t\t\t<li>Based on Ruag GPS receivers</li>\n",
    "\t\t\t\t\t<li>Verified with Satellite Laser Ranging (SLR)</li>\n",
    "\t\t\t\t\t<li>Orbit known to &lt; 2 cm radial</li>\n",
    "\t\t\t\t</ul>\n",
    "\t\t</div>\n",
    "\t\t<div>\n",
    "\t\t\t<h4>Pointing vectors for ATLAS laser beams</h4>\n",
    "\t\t\t\t<ul>\n",
    "\t\t\t\t\t<li>Precision Pointing Determination (PPD) &ndash; UT Austin Applied Research Lab</li>\n",
    "\t\t\t\t\t<li>Based on Sodern Star Trackers and Laser Reference System (LRS)</li>\n",
    "\t\t\t\t\t<li>Verified with cal/val data comparisons with photon returns</li>\n",
    "\t\t\t\t</ul>\n",
    "\t\t</div>\n",
    "\t\t<p style=\"display:inline;color:#65FF00\"><b>Photon time of flight + POD + PPD &rarr; photon return bounce point</b></p>\n",
    "\t</div>\n",
    "</div>"
   ]
  },
  {
   "cell_type": "markdown",
   "metadata": {
    "vscode": {
     "languageId": "plaintext"
    }
   },
   "source": [
    "<h3>ICESat-2 Primary Measurements</h3>\n",
    "<div style=\"text-align: center;\">\n",
    "    <img width=\"80%\" src=\"https://raw.githubusercontent.com/tsutterley/website-2024/IS2-assets/book/tutorials/mission-overview/images/icesat-2-schematic.png\">\n",
    "</div>\n",
    "\n",
    "Figure 2 from the ATL02 Algorithm Theoretical Basis Document (ATBD)"
   ]
  },
  {
   "cell_type": "markdown",
   "metadata": {
    "vscode": {
     "languageId": "plaintext"
    }
   },
   "source": [
    "<h3>ICESat-2 Orbits</h3>\n",
    "<div style=\"display: flex\">\n",
    "  <div style=\"width: 35%; margin: auto 5px\">\n",
    "    <ul style=\"line-height: 1.5em\">\n",
    "\t\t<li>500 km altitude</li>\n",
    "\t\t<li>88&deg; S to 88&deg; N</li>\n",
    "\t\t<li>15 revolutions/day</li>\n",
    "\t\t<li>1387 repeat ground tracks</li>\n",
    "\t\t<li>91-day revisit time</li>\n",
    "\t\t<li>Predicted ground tracks available at <a href=\"https://icesat-2.gsfc.nasa.gov\">icesat-2.gsfc.nasa.gov</a></li>\n",
    "    </ul>\n",
    "  </div>\n",
    "  <div style=\"width: 65%\">\n",
    "    <img src=\"https://raw.githubusercontent.com/tsutterley/website-2024/IS2-assets/book/tutorials/mission-overview/images/icesat2_orbits_converging.png\">\n",
    "  </div>\n",
    "</div>\n",
    "\n",
    "NASA Science Visualization Studio"
   ]
  },
  {
   "cell_type": "markdown",
   "metadata": {
    "vscode": {
     "languageId": "plaintext"
    }
   },
   "source": [
    "<h3>ICESat-2 Along-Track Sampling</h3>\n",
    "<div style=\"text-align: center\">\n",
    "    <img width=\"85%\" src=\"https://raw.githubusercontent.com/tsutterley/website-2024/IS2-assets/book/tutorials/mission-overview/images/icesat2_beams.png\">\n",
    "</div>\n",
    "\n",
    "Figure 1 from {cite}`Smith:2019je`"
   ]
  },
  {
   "cell_type": "markdown",
   "metadata": {
    "vscode": {
     "languageId": "plaintext"
    }
   },
   "source": [
    "<h3>Spacecraft Orientation</h3>\n",
    "<div style=\"text-align: center\">\n",
    "    <img width=\"85%\" src=\"https://raw.githubusercontent.com/tsutterley/website-2024/IS2-assets/book/tutorials/mission-overview/images/ICESat-2_orientation_2022.png\">\n",
    "</div>\n",
    "\n",
    "Provided by NSIDC"
   ]
  },
  {
   "cell_type": "markdown",
   "metadata": {
    "vscode": {
     "languageId": "plaintext"
    }
   },
   "source": [
    "<h3>ICESat-2 Local Coordinate System</h3>\n",
    "<div style=\"display: flex\">\n",
    "  <div style=\"width: 60%; margin: auto 5px\">\n",
    "    <ul style=\"line-height: 1.5em\">\n",
    "        <li>Along-track coordinates, <p style=\"display:inline; font-family: monospace, monospace; color:#e74c3c\">x_atc</p>, are measured parallel to each RGT and are in reference to the equator</li>\n",
    "        <li>Across-track coordinates, <p style=\"display:inline; font-family: monospace, monospace; color:#e74c3c\">y_atc</p>, are measured perpendicular to and in reference to the RGT</li>\n",
    "\t\t<li>Averaging Schemes:</li>\n",
    "        <ul style=\"line-height: 1.5em\">\n",
    "          <li>Measurements can be averaged over a set along-track distance</li>\n",
    "          <li>Measurements can be averaged over a set number of photons and have a variable along-track length</li>\n",
    "        </ul>\n",
    "    </ul>\n",
    "  </div>\n",
    "  <div style=\"width: 30%\">\n",
    "    <img src=\"https://raw.githubusercontent.com/tsutterley/website-2024/IS2-assets/book/tutorials/mission-overview/images/ICESat-2_coordinates_2022.png\">\n",
    "  </div>\n",
    "</div>\n",
    "\n",
    "Figure 3.5 from the ATL06 Algorithm Theoretical Basis Document (ATBD)"
   ]
  },
  {
   "cell_type": "markdown",
   "metadata": {
    "vscode": {
     "languageId": "plaintext"
    }
   },
   "source": [
    "<div style=\"display: inline-flex; height: 400px; width: 100%\">\n",
    "    <div style=\"text-align: center; margin: auto 5px\">\n",
    "        <h3 style=\"display:inline;color:#65FF00\">Part 2</h3><br>\n",
    "        <h1 style=\"display:inline;color:#65FF00\">Data Products</h1>\n",
    "    </div>\n",
    "</div>"
   ]
  },
  {
   "cell_type": "markdown",
   "metadata": {
    "vscode": {
     "languageId": "plaintext"
    }
   },
   "source": [
    "<h3>ICESat-2 Data Production</h3>\n",
    "<div style=\"text-align: center;\">\n",
    "    <img width=\"85%\" src=\"https://raw.githubusercontent.com/tsutterley/website-2024/IS2-assets/book/tutorials/mission-overview/images/ICESat-2_data_production.png\">\n",
    "</div>\n",
    "\n",
    "<div>\n",
    "\t<b>Data Production Keywords:</b>\n",
    "\t<ul>\n",
    "\t\t<li><b>ATLAS:</b> Advanced Topographic Laser Altimeter System</li>\n",
    "\t\t<li><b>ASAS:</b> ATLAS Science Algorithm Software</li>\n",
    "\t\t<li><b>PGE:</b> Product Generation Executive</li>\n",
    "\t\t<li><b>SIPS:</b> Science Investigator-led Processing System</li>\n",
    "\t\t<li><b>SCF:</b> Science Computing Facility</li>\n",
    "\t</ul>\n",
    "</div>"
   ]
  },
  {
   "cell_type": "markdown",
   "metadata": {
    "vscode": {
     "languageId": "plaintext"
    }
   },
   "source": [
    "<h3>ICESat-2 Product Chart</h3>\n",
    "<div style=\"text-align: center;\">\n",
    "    <img width=\"85%\" src=\"https://raw.githubusercontent.com/tsutterley/website-2024/IS2-assets/book/tutorials/mission-overview/images/ASAS_product_chart.png\">\n",
    "</div>\n",
    "\n",
    "<p><b>ANC:</b> Ancillary Data, <b>CAL:</b> Calibration Product, <b>POD:</b> Precision Orbit Determination, <b>PPD:</b> Precision Pointing Determination; <b>QL:</b> Quicklook Available</p>"
   ]
  },
  {
   "cell_type": "markdown",
   "metadata": {
    "vscode": {
     "languageId": "plaintext"
    }
   },
   "source": [
    "<h3>ICESat-2 Product Applications Chart</h3>\n",
    "<div style=\"text-align: center;\">\n",
    "    <img width=\"85%\" src=\"https://raw.githubusercontent.com/tsutterley/website-2024/IS2-assets/book/tutorials/mission-overview/images/ASAS_product_chart_discipline.png\">\n",
    "</div>\n",
    "\n",
    "<p><b>ANC:</b> Ancillary Data, <b>CAL:</b> Calibration Product, <b>POD:</b> Precision Orbit Determination, <b>PPD:</b> Precision Pointing Determination; <b>QL:</b> Quicklook Available</p>"
   ]
  },
  {
   "cell_type": "markdown",
   "metadata": {
    "vscode": {
     "languageId": "plaintext"
    }
   },
   "source": [
    "<h3>Granule Regions</h3>\n",
    "<p>\n",
    "    Each orbit of ICESat-2 data is broken up into 14 granules\n",
    "    in order to limit the overall file sizes and to reduce the\n",
    "    number of files that need to be processed to create the\n",
    "    higher-level science products\n",
    "</p>\n",
    "\n",
    "<div style=\"text-align: center;\">\n",
    "    <img width=\"85%\" src=\"https://raw.githubusercontent.com/tsutterley/website-2024/IS2-assets/book/tutorials/mission-overview/images/ICESat-2_granules_global.png\">\n",
    "</div>\n",
    "<br>\n",
    "<div style=\"text-align: center;\">\n",
    "    <img width=\"85%\" src=\"https://raw.githubusercontent.com/tsutterley/website-2024/IS2-assets/book/tutorials/mission-overview/images/ICESat-2_granules_polar.png\">\n",
    "</div>"
   ]
  },
  {
   "cell_type": "markdown",
   "metadata": {
    "vscode": {
     "languageId": "plaintext"
    }
   },
   "source": [
    "<h3>File Naming Conventions</h3>\n",
    "\n",
    "<div style=\"text-align: center;\">\n",
    "  <p style=\"display:inline; font-family: monospace, monospace; color:#e74c3c; font-size:20px;\">\n",
    "    ATL[xx]_[yyyymmdd][hhmmss]_[tttt][cc][nn]_[rrr]_[vv].h5\n",
    "  </p>\n",
    "</div>\n",
    "<ul style=\"line-height: 1.5em\">\n",
    "  <li><p style=\"display:inline; font-family: monospace, monospace; color:#e74c3c\">xx</p>:\n",
    "      ATLAS product number\n",
    "  </li>\n",
    "  <li><p style=\"display:inline; font-family: monospace, monospace; color:#e74c3c\">yyyymmdd</p>:\n",
    "      year, month and day of data acquisition\n",
    "  </li>\n",
    "  <li><p style=\"display:inline; font-family: monospace, monospace; color:#e74c3c\">hhmmss</p>:\n",
    "      start time, hour, minute, and second of data acquisition (UTC)\n",
    "  </li>\n",
    "  <li><p style=\"display:inline; font-family: monospace, monospace; color:#e74c3c\">tttt</p>:\n",
    "      Reference Ground Track (RGT, ranges from 1&ndash;1387)\n",
    "  </li>\n",
    "  <li><p style=\"display:inline; font-family: monospace, monospace; color:#e74c3c\">cc</p>:\n",
    "      Orbital Cycle (91-day period)\n",
    "  </li>\n",
    "  <li><p style=\"display:inline; font-family: monospace, monospace; color:#e74c3c\">nn</p>:\n",
    "      Granule number (ranges from 1&ndash;14, always 01 for atmosphere products)\n",
    "  </li>\n",
    "  <li><p style=\"display:inline; font-family: monospace, monospace; color:#e74c3c\">rrr</p>:\n",
    "      Data release number\n",
    "  </li>\n",
    "  <li><p style=\"display:inline; font-family: monospace, monospace; color:#e74c3c\">vv</p>:\n",
    "      Data version number\n",
    "  </li>\n",
    "</ul>\n",
    "<p>used for ATL03, ATL04, ATL06, ATL08, ATL09, ATL10, ATL12, ATL13, ATL16, ATL17, ATL19, and ATL22</p>"
   ]
  },
  {
   "cell_type": "markdown",
   "metadata": {
    "vscode": {
     "languageId": "plaintext"
    }
   },
   "source": [
    "<h3>File Naming Conventions: Sea Ice</h3>\n",
    "\n",
    "<div style=\"text-align: center;\">\n",
    "  <p style=\"display:inline; font-family: monospace, monospace; color:#e74c3c; font-size:20px;\">\n",
    "    ATL[xx]-[hh]_[yyyymmdd][hhmmss]_[tttt][cc][nn]_[rrr]_[vv].h5\n",
    "  </p>\n",
    "</div>\n",
    "<ul style=\"line-height: 1.5em\">\n",
    "  <li><p style=\"display:inline; font-family: monospace, monospace; color:#e74c3c\">xx</p>:\n",
    "      ATLAS product number\n",
    "  </li>\n",
    "  <li><p style=\"display:inline; font-family: monospace, monospace; color:#e74c3c\">hh</p>:\n",
    "      Sea ice hemisphere flag (01=north, 02=south)\n",
    "  </li>\n",
    "  <li><p style=\"display:inline; font-family: monospace, monospace; color:#e74c3c\">yyyymmdd</p>:\n",
    "      year, month and day of data acquisition\n",
    "  </li>\n",
    "  <li><p style=\"display:inline; font-family: monospace, monospace; color:#e74c3c\">hhmmss</p>:\n",
    "      start time, hour, minute, and second of data acquisition (UTC)\n",
    "  </li>\n",
    "  <li><p style=\"display:inline; font-family: monospace, monospace; color:#e74c3c\">tttt</p>:\n",
    "      Reference Ground Track (RGT, ranges from 1&ndash;1387)\n",
    "  </li>\n",
    "  <li><p style=\"display:inline; font-family: monospace, monospace; color:#e74c3c\">cc</p>:\n",
    "      Orbital Cycle (91-day period)\n",
    "  </li>\n",
    "  <li><p style=\"display:inline; font-family: monospace, monospace; color:#e74c3c\">nn</p>:\n",
    "      Granule number (always 01 for sea ice products)\n",
    "  </li>\n",
    "  <li><p style=\"display:inline; font-family: monospace, monospace; color:#e74c3c\">rrr</p>:\n",
    "      Data release number\n",
    "  </li>\n",
    "  <li><p style=\"display:inline; font-family: monospace, monospace; color:#e74c3c\">vv</p>:\n",
    "      Data version number\n",
    "  </li>\n",
    "</ul>\n",
    "<p>used for ATL07, ATL10, ATL20, and ATL21</p>"
   ]
  },
  {
   "cell_type": "markdown",
   "metadata": {},
   "source": [
    "<h3>ATL03: Global Geolocated Photon Data</h3>\n",
    "<div style=\"display: flex\">\n",
    "  <div style=\"width: 50%; margin: auto 5px;\">\n",
    "\t<div><p><b>Contains:</b></p>\n",
    "    <ul style=\"line-height: 1.5em\">\n",
    "        <li>Geolocation, time and elevation for all photons telemetered from ATLAS</li>\n",
    "        <li>Photon classifications for each surface type</li>\n",
    "\t\t<li>Geophysical and atmospheric corrections</li>\n",
    "\t\t<li>Instrumental parameters</li>\n",
    "    </ul>\n",
    "\t</div>\n",
    "\t<div><p><b>Advantages:</b></p>\n",
    "    <ul style=\"line-height: 1.5em\">\n",
    "        <li>Every photon is there, and every parameter</li>\n",
    "\t\t<li>Can derive information for all surface types</li>\n",
    "    </ul>\n",
    "\t</div>\n",
    "\t<div><p><b>Disadvantages:</b></p>\n",
    "    <ul style=\"line-height: 1.5em\">\n",
    "        <li>Large and complex product</li>\n",
    "        <li>Might require applying instrumental corrections</li>\n",
    "    </ul>\n",
    "\t</div>\n",
    "\t<div><p><b>Use if you want to:</b></p>\n",
    "    <ul style=\"line-height: 1.5em\">\n",
    "        <li>Look at surfaces at a scale unresolved in higher-level products</li>\n",
    "        <li>Look at processes the higher-level products were not designed to observe</li>\n",
    "    </ul>\n",
    "\t</div>\n",
    "  </div>\n",
    "  <div style=\"width: 45%; margin: auto 5px;\">\n",
    "    <img src=\"https://raw.githubusercontent.com/tsutterley/website-2024/IS2-assets/book/tutorials/mission-overview/images/atl03_photons_yapc.png\">\n",
    "  </div>\n",
    "</div>"
   ]
  },
  {
   "cell_type": "markdown",
   "metadata": {
    "vscode": {
     "languageId": "plaintext"
    }
   },
   "source": [
    "<h3>ATL04 and ATL09: Atmospheric Backscatter Profiles</h3>\n",
    "<div>\n",
    "    <div><p><b>Contains:</b></p>\n",
    "    <ul style=\"line-height: 1.5em\">\n",
    "        <li>Atmospheric layer heights and optical properties</li>\n",
    "    </ul>\n",
    "    </div>\n",
    "    <div><p><b>Advantages:</b></p>\n",
    "    <ul style=\"line-height: 1.5em\">\n",
    "        <li>Much larger height window provided from the atmospheric data channel</li>\n",
    "    </ul>\n",
    "    </div>\n",
    "  \t<div><p><b>Disadvantages:</b></p>\n",
    "    <ul style=\"line-height: 1.5em\">\n",
    "        <li>Relatively large file sizes</li>\n",
    "    </ul>\n",
    "\t</div>\n",
    "    <div><p><b>Use if you want to:</b></p>\n",
    "    <ul style=\"line-height: 1.5em\">\n",
    "        <li>Want to investigate cloud or suspended particle optical depths</li>\n",
    "        <li>Visualize cloud returns or Antarctic blowing snow</li>\n",
    "        <li>Want to try to understand atmospheric effects on photon ground returns</li>\n",
    "    </ul>\n",
    "    </div>\n",
    "</div>\n",
    "\n",
    "<div style=\"text-align: center\">\n",
    "    <img width=\"80%\" src=\"https://raw.githubusercontent.com/tsutterley/website-2024/IS2-assets/book/tutorials/mission-overview/images/ess2920-fig-0011.jpg\">\n",
    "</div>\n",
    "\n",
    "Figure 11 from {cite}`Palm:2021km`"
   ]
  },
  {
   "cell_type": "markdown",
   "metadata": {
    "vscode": {
     "languageId": "plaintext"
    }
   },
   "source": [
    "<h3>ATL06: Land Ice Height Data</h3>\n",
    "<div style=\"display: flex\">\n",
    "  <div style=\"width: 50%; margin: auto 5px;\">\n",
    "\t<div><p><b>Contains:</b></p>\n",
    "    <ul style=\"line-height: 1.5em\">\n",
    "        <li>Overlapping 40-meter linear segments fit to land and land-ice photons</li>\n",
    "        <li>Height error and segment quality estimates</li>\n",
    "    </ul>\n",
    "\t</div>\n",
    "\t<div><p><b>Advantages:</b></p>\n",
    "    <ul style=\"line-height: 1.5em\">\n",
    "        <li>Lighter product than ATL03</li>\n",
    "\t\t<li>Provides estimated surface heights with cm-level corrections</li>\n",
    "    </ul>\n",
    "\t</div>\n",
    "\t<div><p><b>Disadvantages:</b></p>\n",
    "    <ul style=\"line-height: 1.5em\">\n",
    "        <li>40 meters is too coarse for some applications</li>\n",
    "        <li>Only designed for single surface returns</li>\n",
    "    </ul>\n",
    "\t</div>\n",
    "\t<div><p><b>Use if you want to:</b></p>\n",
    "    <ul style=\"line-height: 1.5em\">\n",
    "        <li>Make large-scale repeatable measurements of glaciers and ice sheets</li>\n",
    "    </ul>\n",
    "\t</div>\n",
    "  </div>\n",
    "  <div style=\"width: 45%; margin: auto 5px;\">\n",
    "    <img src=\"https://raw.githubusercontent.com/tsutterley/website-2024/IS2-assets/book/tutorials/mission-overview/images/ATL06_segment_model.png\">\n",
    "  </div>\n",
    "</div>\n",
    "\n",
    "Figure 3 from {cite}`Smith:2019je`"
   ]
  },
  {
   "cell_type": "markdown",
   "metadata": {},
   "source": [
    "<h3>ATL11: Slope-Corrected Land Ice Height Time Series</h3>\n",
    "<div style=\"display: flex\">\n",
    "  <div style=\"width: 50%; margin: auto 5px;\">\n",
    "\t<div><p><b>Contains:</b></p>\n",
    "    <ul style=\"line-height: 1.5em\">\n",
    "        <li>120-meter along-track segments for each beam pair corrected for across-track slope</li>\n",
    "        <li>Crossover estimates from ATL06 at reference points</li>\n",
    "    </ul>\n",
    "\t</div>\n",
    "\t<div><p><b>Advantages:</b></p>\n",
    "    <ul style=\"line-height: 1.5em\">\n",
    "        <li>Contains data for all cycles with along-track data following\n",
    "            the Reference Ground Tracks (RGTs)</li>\n",
    "\t\t<li>Easy calculation of height change through time</li>\n",
    "    </ul>\n",
    "\t</div>\n",
    "\t<div><p><b>Disadvantages:</b></p>\n",
    "    <ul style=\"line-height: 1.5em\">\n",
    "        <li>120-m resolution is too coarse for some applications</li>\n",
    "        <li>May not work well over complex surfaces</li>\n",
    "    </ul>\n",
    "\t</div>\n",
    "\t<div><p><b>Use if you want to:</b></p>\n",
    "    <ul style=\"line-height: 1.5em\">\n",
    "        <li>Make large-scale estimates of glacier and ice sheet height change</li>\n",
    "    </ul>\n",
    "\t</div>\n",
    "  </div>\n",
    "  <div style=\"width: 45%; margin: auto 5px;\">\n",
    "    <img src=\"https://raw.githubusercontent.com/tsutterley/website-2024/IS2-assets/book/tutorials/mission-overview/images/ATL11_048311_006_pt2.png\">\n",
    "  </div>\n",
    "</div>"
   ]
  },
  {
   "cell_type": "markdown",
   "metadata": {},
   "source": [
    "<h3>ATL14 and ATL15: Gridded Land Ice Height and Height Change</h3>\n",
    "<div>\n",
    "    <div><p><b>Contains:</b></p>\n",
    "    <ul style=\"line-height: 1.5em\">\n",
    "        <li>ATL14: gridded digital elevation model (DEM) and height uncertainty at 100m posting</li>\n",
    "        <li>ATL15: gridded land ice height change estimates at 1km, 10km, 20km, and 40km posting</li>\n",
    "    </ul>\n",
    "    </div>\n",
    "    <div><p><b>Advantages:</b></p>\n",
    "    <ul style=\"line-height: 1.5em\">\n",
    "        <li>Gridded product combining all available along-track ATL11 data</li>\n",
    "        <li>Simplifies volume change calculations using ICESat-2 data</li>\n",
    "    </ul>\n",
    "    </div>\n",
    "    <div><p><b>Disadvantages:</b></p>\n",
    "    <ul style=\"line-height: 1.5em\">\n",
    "        <li>ATL14 estimates degrade where measurements are unavailable</li>\n",
    "        <li>Quarter-annual temporal sampling might not be high enough for certain applications</li>\n",
    "    </ul>\n",
    "    </div>\n",
    "    <div><p><b>Use if you want to:</b></p>\n",
    "    <ul style=\"line-height: 1.5em\">\n",
    "        <li>Use gridded estimates of height change for ice sheet models</li>\n",
    "        <li>Start creating land ice mass balance estimates from ICESat-2</li>\n",
    "        <li>Extract land ice height change estimates along transects</li>\n",
    "    </ul>\n",
    "    </div>\n",
    "</div>\n",
    "\n",
    "<div style=\"display: flex\">\n",
    "  <div style=\"width: 50%; margin: auto 5px\">\n",
    "    <img src=\"https://raw.githubusercontent.com/tsutterley/website-2024/IS2-assets/book/tutorials/mission-overview/images/Felikson_glacier0001_map.png\">\n",
    "  </div>\n",
    "  <div style=\"width: 41.5%; margin: auto 5px\">\n",
    "    <img src=\"https://raw.githubusercontent.com/tsutterley/website-2024/IS2-assets/book/tutorials/mission-overview/images/Felikson_glacier0001_transect.png\">\n",
    "  </div>\n",
    "</div>\n",
    "\n",
    "Transect of glacier flowlines from {cite}`Felikson:2021cq`"
   ]
  },
  {
   "cell_type": "markdown",
   "metadata": {},
   "source": [
    "<h3>ATL07: Sea Ice Height Data</h3>\n",
    "<div style=\"display: flex\">\n",
    "  <div style=\"width: 50%; margin: auto 5px;\">\n",
    "\t<div><p><b>Contains:</b></p>\n",
    "    <ul style=\"line-height: 1.5em\">\n",
    "        <li>Along-track heights for sea ice and leads</li>\n",
    "    </ul>\n",
    "\t</div>\n",
    "\t<div><p><b>Advantages:</b></p>\n",
    "    <ul style=\"line-height: 1.5em\">\n",
    "        <li>High precision (~2 cm) height retrievals from 150-photon aggregates</li>\n",
    "\t\t<li>Classifications for varying surface types (e.g. open water leads, sea ice)</li>\n",
    "        <li>Provides auxiliary information such as surface roughness and retrieval quality flags</li>\n",
    "    </ul>\n",
    "\t</div>\n",
    "\t<div><p><b>Disadvantages:</b></p>\n",
    "    <ul style=\"line-height: 1.5em\">\n",
    "        <li>Surface retrievals have varying length scales</li>\n",
    "        <li>Surface type flagging is still in development</li>\n",
    "    </ul>\n",
    "\t</div>\n",
    "\t<div><p><b>Use if you want to:</b></p>\n",
    "    <ul style=\"line-height: 1.5em\">\n",
    "        <li>Have base level surface heights for freeboard or surface process studies</li>\n",
    "    </ul>\n",
    "\t</div>\n",
    "  </div>\n",
    "  <div style=\"width: 45%; margin: auto 5px;\">\n",
    "    <img src=\"https://raw.githubusercontent.com/tsutterley/website-2024/IS2-assets/book/tutorials/mission-overview/images/kwok_2019_figure_2.jpg\">\n",
    "  </div>\n",
    "</div>\n",
    "\n",
    "Figure 2 from {cite}`Kwok:2019ee`"
   ]
  },
  {
   "cell_type": "markdown",
   "metadata": {
    "vscode": {
     "languageId": "plaintext"
    }
   },
   "source": [
    "<h3>ATL10: Sea Ice Freeboard Data</h3>\n",
    "<div style=\"display: flex\">\n",
    "  <div style=\"width: 50%; margin: auto 5px;\">\n",
    "\t<div><p><b>Contains:</b></p>\n",
    "    <ul style=\"line-height: 1.5em\">\n",
    "        <li>Along-track sea ice freeboard and surface heights</li>\n",
    "        <li>Surface type flagging and ancillary information</li>\n",
    "    </ul>\n",
    "\t</div>\n",
    "\t<div><p><b>Advantages:</b></p>\n",
    "    <ul style=\"line-height: 1.5em\">\n",
    "        <li>Lighter product than ATL07 with higher level freeboard and surface types</li>\n",
    "    </ul>\n",
    "\t</div>\n",
    "\t<div><p><b>Disadvantages:</b></p>\n",
    "    <ul style=\"line-height: 1.5em\">\n",
    "        <li>Higher levels of missing/invalid data than ATL07 (low ice concentration, near-coastal)</li>\n",
    "        <li>Varying length scales of retrievals</li>\n",
    "        <li>Summer sea ice retrievals still under investigation (July 2022 field campaign)</li>\n",
    "    </ul>\n",
    "\t</div>\n",
    "\t<div><p><b>Use if you want to:</b></p>\n",
    "    <ul style=\"line-height: 1.5em\">\n",
    "        <li>Use along-track freeboard retrievals</li>\n",
    "        <li>Use a highly accurate product (3 cm or better over 25 km length scales)</li>\n",
    "    </ul>\n",
    "\t</div>\n",
    "  </div>\n",
    "  <div style=\"width: 45%; margin: auto 5px;\">\n",
    "    <img src=\"https://raw.githubusercontent.com/tsutterley/website-2024/IS2-assets/book/tutorials/mission-overview/images/april2019_gridded_cropped.png\">\n",
    "  </div>\n",
    "</div>\n",
    "\n",
    "Figure 6 from {cite}`Petty:2020gt`"
   ]
  },
  {
   "cell_type": "markdown",
   "metadata": {
    "vscode": {
     "languageId": "plaintext"
    }
   },
   "source": [
    "<h3>ATL20: Gridded Sea Ice Freeboard Data</h3>\n",
    "<div style=\"display: flex\">\n",
    "  <div style=\"width: 57.5%; margin: auto 5px;\">\n",
    "\t<div><p><b>Contains:</b></p>\n",
    "    <ul style=\"line-height: 1.5em\">\n",
    "        <li>25 km gridded sea ice freeboard at daily to monthly resolution</li>\n",
    "    </ul>\n",
    "\t</div>\n",
    "\t<div><p><b>Advantages:</b></p>\n",
    "    <ul style=\"line-height: 1.5em\">\n",
    "        <li>Gridded product that is lighter than ATL10</li>\n",
    "    </ul>\n",
    "\t</div>\n",
    "\t<div><p><b>Disadvantages:</b></p>\n",
    "    <ul style=\"line-height: 1.5em\">\n",
    "        <li>Coarse length scale, averages out the high resolution of the ICESat-2 data</li>\n",
    "    </ul>\n",
    "\t</div>\n",
    "\t<div><p><b>Use if you want to:</b></p>\n",
    "    <ul style=\"line-height: 1.5em\">\n",
    "        <li>Look at gridded sea ice freeboard data for large-scale determination of sea ice change</li>\n",
    "        <li>Merge with other coarse-resolution data such as passive microwave products</li>\n",
    "    </ul>\n",
    "\t</div>\n",
    "  </div>\n",
    "  <div style=\"width: 37.5%; margin: auto 5px;\">\n",
    "    <img src=\"https://raw.githubusercontent.com/tsutterley/website-2024/IS2-assets/book/tutorials/mission-overview/images/ATL20.png\">\n",
    "  </div>\n",
    "</div>\n",
    "\n",
    "Figure 9 from {cite}`Kwok:2019ee`"
   ]
  },
  {
   "cell_type": "markdown",
   "metadata": {
    "vscode": {
     "languageId": "plaintext"
    }
   },
   "source": [
    "<h3>ATL21: Gridded Polar Sea Surface Height Data</h3>\n",
    "<div style=\"display: flex\">\n",
    "  <div style=\"width: 57.5%; margin: auto 5px;\">\n",
    "\t<div><p><b>Contains:</b></p>\n",
    "    <ul style=\"line-height: 1.5em\">\n",
    "        <li>25 km gridded sea surface height anomalies for sea ice covered regions</li>\n",
    "    </ul>\n",
    "\t</div>\n",
    "\t<div><p><b>Advantages:</b></p>\n",
    "    <ul style=\"line-height: 1.5em\">\n",
    "        <li>Gridded product that is lighter than ATL10</li>\n",
    "        <li>Uses a sophisticated sea surface height retrieval algorithm to detect leads in polar oceans</li>\n",
    "    </ul>\n",
    "\t</div>\n",
    "\t<div><p><b>Disadvantages:</b></p>\n",
    "    <ul style=\"line-height: 1.5em\">\n",
    "        <li>Coarse length scale, averages out the high resolution of the ICESat-2 data</li>\n",
    "        <li>Only data from center strong beam available due to time and spatially varying biases</li>\n",
    "    </ul>\n",
    "\t</div>\n",
    "\t<div><p><b>Use if you want to:</b></p>\n",
    "    <ul style=\"line-height: 1.5em\">\n",
    "        <li>Look at large-scale gridded sea surface height anomalies or derive dynamic ocean topography in polar regions</li>\n",
    "    </ul>\n",
    "\t</div>\n",
    "  </div>\n",
    "  <div style=\"width: 37.5%; margin: auto 5px;\">\n",
    "    <img src=\"https://raw.githubusercontent.com/tsutterley/website-2024/IS2-assets/book/tutorials/mission-overview/images/ATL21.png\">\n",
    "  </div>\n",
    "</div>\n",
    "\n",
    "Figure 4 from {cite}`Bagnardi:2021ic`"
   ]
  },
  {
   "cell_type": "markdown",
   "metadata": {},
   "source": [
    "<h3>ATL08: Land and Vegetation Height Data</h3>\n",
    "<div style=\"display: flex\">\n",
    "  <div style=\"width: 55%; margin: auto 5px;\">\n",
    "\t<div><p><b>Contains:</b></p>\n",
    "    <ul style=\"line-height: 1.5em\">\n",
    "        <li>Terrain surface and canopy heights from land photons</li>\n",
    "    </ul>\n",
    "\t</div>\n",
    "\t<div><p><b>Advantages:</b></p>\n",
    "    <ul style=\"line-height: 1.5em\">\n",
    "        <li>Can handle surfaces with multiple returns (such as vegetated canopies)</li>\n",
    "        <li>Provides photon-level classifications from the ATL08 algorithm</li>\n",
    "    </ul>\n",
    "\t</div>\n",
    "\t<div><p><b>Disadvantages:</b></p>\n",
    "    <ul style=\"line-height: 1.5em\">\n",
    "        <li>Can produce less reliable results over sloping surfaces</li>\n",
    "    </ul>\n",
    "\t</div>\n",
    "\t<div><p><b>Use if you want to:</b></p>\n",
    "    <ul style=\"line-height: 1.5em\">\n",
    "        <li>Detect multiple surfaces, such as vegetated canopies or supraglacial lakes</li>\n",
    "        <li>Look at vegetated terrain and need to detect the ground</li>\n",
    "    </ul>\n",
    "\t</div>\n",
    "  </div>\n",
    "  <div style=\"width: 40%; margin: auto 5px;\">\n",
    "    <img src=\"https://raw.githubusercontent.com/tsutterley/website-2024/IS2-assets/book/tutorials/mission-overview/images/ATL08.png\">\n",
    "  </div>\n",
    "</div>\n",
    "\n",
    "Figure recreated from Amy Neuenschwander (UT Austin)\n"
   ]
  },
  {
   "cell_type": "markdown",
   "metadata": {},
   "source": [
    "<h3>ATL18: Gridded Land and Vegetation Height (in development)</h3>\n",
    "<div style=\"display: flex\">\n",
    "  <div style=\"width: 35%; margin: auto 5px;\">\n",
    "\t<div><p><b>Contains:</b></p>\n",
    "    <ul style=\"line-height: 1.5em\">\n",
    "        <li>Terrain and relative canopy heights at 1km resolution</li>\n",
    "    </ul>\n",
    "\t</div>\n",
    "\t<div><p><b>Advantages:</b></p>\n",
    "    <ul style=\"line-height: 1.5em\">\n",
    "        <li>Uses EASE2.0 grids for compatibility with other datasets</li>\n",
    "        <li>Will be updated annually</li>\n",
    "    </ul>\n",
    "\t</div>\n",
    "\t<div><p><b>Disadvantages:</b></p>\n",
    "    <ul style=\"line-height: 1.5em\">\n",
    "        <li>Low spatial resolution limits creating a temporal change product</li>\n",
    "    </ul>\n",
    "\t</div>\n",
    "\t<div><p><b>Use if you want to:</b></p>\n",
    "    <ul style=\"line-height: 1.5em\">\n",
    "        <li>Analyze large-scale vegetation and land surface change</li>\n",
    "    </ul>\n",
    "\t</div>\n",
    "  </div>\n",
    "  <div style=\"width: 60%; margin: auto 5px;\">\n",
    "    <img src=\"https://raw.githubusercontent.com/tsutterley/website-2024/IS2-assets/book/tutorials/mission-overview/images/ATL18.png\">\n",
    "  </div>\n",
    "</div>\n",
    "\n",
    "Figure from Amy Neuenschwander (UT Austin)"
   ]
  },
  {
   "cell_type": "markdown",
   "metadata": {},
   "source": [
    "<h3>ATL12: Ocean Surface Height Data</h3>\n",
    "<div style=\"display: flex\">\n",
    "  <div style=\"width: 55%; margin: auto 5px;\">\n",
    "\t<div><p><b>Contains:</b></p>\n",
    "    <ul style=\"line-height: 1.5em\">\n",
    "        <li>Sea surface heights for oceans deeper than 10m</li>\n",
    "        <li>Harmonic coefficients and statistics for waves</li>\n",
    "        <li>Geophysical (e.g. sea state bias) corrections</li>\n",
    "    </ul>\n",
    "\t</div>\n",
    "\t<div><p><b>Advantages:</b></p>\n",
    "    <ul style=\"line-height: 1.5em\">\n",
    "        <li>Average height estimates reduce the effects of correlated noise due to waves</li>\n",
    "        <li>Also provides sea surface heights with cm-level corrections at spatial resolutions up to 10m</li>\n",
    "    </ul>\n",
    "\t</div>\n",
    "\t<div><p><b>Disadvantages:</b></p>\n",
    "    <ul style=\"line-height: 1.5em\">\n",
    "        <li>Does not represent the sea surface in ice covered areas</li>\n",
    "    </ul>\n",
    "\t</div>\n",
    "\t<div><p><b>Use if you want to:</b></p>\n",
    "    <ul style=\"line-height: 1.5em\">\n",
    "        <li>Detect the instantaneous sea surface height</li>\n",
    "    </ul>\n",
    "\t</div>\n",
    "  </div>\n",
    "  <div style=\"width: 40%; margin: auto 5px;\">\n",
    "    <img src=\"https://raw.githubusercontent.com/tsutterley/website-2024/IS2-assets/book/tutorials/mission-overview/images/grl62359-fig-0003-m.jpg\">\n",
    "  </div>\n",
    "</div>\n",
    "\n",
    "Comparison of ATL12 and JASON-3 from {cite}`Buzzanga:2021cj`"
   ]
  },
  {
   "cell_type": "markdown",
   "metadata": {},
   "source": [
    "<h3>ATL19 and ATL23: Gridded Dynamic Ocean Topography</h3>\n",
    "<div style=\"display: flex\">\n",
    "  <div style=\"width: 42.5%; margin: auto 5px;\">\n",
    "\t<div><p><b>Contains:</b></p>\n",
    "    <ul style=\"line-height: 1.5em\">\n",
    "        <li>Rasterized DOT at <sup>1</sup>&frasl;<sub>4</sub>&deg; (mid-latitudes) and 25 km (polar) spatial resolution</li>\n",
    "        <li>Monthly (ATL19) and tri-monthly (ATL23) temporal resolution</li>\n",
    "    </ul>\n",
    "\t</div>\n",
    "\t<div><p><b>Advantages:</b></p>\n",
    "    <ul style=\"line-height: 1.5em\">\n",
    "        <li>Lighter product than ATL12</li>\n",
    "        <li>Includes individual beam averages</li>\n",
    "    </ul>\n",
    "\t</div>\n",
    "\t<div><p><b>Disadvantages:</b></p>\n",
    "    <ul style=\"line-height: 1.5em\">\n",
    "        <li>Lower temporal resolution than ATL12</li>\n",
    "    </ul>\n",
    "\t</div>\n",
    "\t<div><p><b>Use if you want to:</b></p>\n",
    "    <ul style=\"line-height: 1.5em\">\n",
    "        <li>Calculate the average DOT over time</li>\n",
    "        <liLook at large-scale oceanographic features</li>\n",
    "    </ul>\n",
    "\t</div>\n",
    "  </div>\n",
    "  <div style=\"width: 52.5%; margin: auto 5px;\">\n",
    "    <img src=\"https://raw.githubusercontent.com/tsutterley/website-2024/IS2-assets/book/tutorials/mission-overview/images/moris4-220601-020-large.png\"><br>\n",
    "    <img src=\"https://raw.githubusercontent.com/tsutterley/website-2024/IS2-assets/book/tutorials/mission-overview/images/moris5-220601-020-large.png\">\n",
    "  </div>\n",
    "</div>\n",
    "\n",
    "Figures 4 and 5 showing ATL19 and ATL23 from {cite}`Morison:2022bg`"
   ]
  },
  {
   "cell_type": "markdown",
   "metadata": {},
   "source": [
    "<h3>Product Information at the National Snow and Ice Data Center (NSIDC)</h3>\n",
    "<div style=\"display: flex\">\n",
    "  <div style=\"width: 75.5%; margin: auto 5px;\">\n",
    "    <ul style=\"line-height: 1.5em\">\n",
    "        <li>The NSIDC DAAC is the primary data manager for ICESat-2 data</li>\n",
    "        <ul style=\"line-height: 1.5em\">\n",
    "            <li>On-prem data stores</li>\n",
    "            <li>Cloud-based data stores (AWS s3)</li>\n",
    "        </ul>\n",
    "        <li>Mission landing page for ICESat-2 &rarr;\n",
    "            <a href=\"https://nsidc.org/data/icesat-2\" style=\"color:#65FF00\">https://nsidc.org/data/icesat-2</a>\n",
    "        </li>\n",
    "        <li>Product landing pages (e.g. ATL03) &rarr;\n",
    "            <a href=\"https://nsidc.org/data/atl03\" style=\"color:#65FF00\">https://nsidc.org/data/atl03</a>\n",
    "        </li>\n",
    "        <li>Each product landing page includes:</li>\n",
    "        <ul style=\"line-height: 1.5em\">\n",
    "            <li>User Guides</li>\n",
    "            <li>Algorithm Theoretical Basis Documents (ATBDs)</li>\n",
    "            <li>Data Dictionaries</li>\n",
    "            <li>List of Known Issues</li>\n",
    "            <li>Information for Data Access</li>\n",
    "        </ul>\n",
    "    </ul>\n",
    "  </div>\n",
    "  <div style=\"width: 20%; margin: auto 5px;\">\n",
    "    <img style=\"width: 100%\" src=\"https://raw.githubusercontent.com/tsutterley/website-2024/IS2-assets/book/tutorials/mission-overview/images/NSIDC.png\"><br>\n",
    "    <img style=\"width: 100%\" src=\"https://raw.githubusercontent.com/tsutterley/website-2024/IS2-assets/book/tutorials/mission-overview/images/NSIDC-DAAC.jpg\">\n",
    "  </div>\n",
    "</div>"
   ]
  },
  {
   "cell_type": "markdown",
   "metadata": {},
   "source": [
    "<div style=\"display: inline-flex; height: 400px; width: 100%\">\n",
    "    <div style=\"text-align: center; margin: auto 5px\">\n",
    "        <h3 style=\"display:inline;color:#65FF00\">Part 3</h3><br>\n",
    "        <h1 style=\"display:inline;color:#65FF00\">Mission Status and Future</h1>\n",
    "    </div>\n",
    "</div>"
   ]
  },
  {
   "cell_type": "markdown",
   "metadata": {},
   "source": [
    "<h3>2024 Safehold to Science Mode Timeline</h3>\n",
    "<div style=\"display: flex\">\n",
    "  <div style=\"width: 60%; margin: auto 5px;\">\n",
    "    <ul style=\"line-height: 1.5em\">\n",
    "      <li><b>May 10:</b> Massive solar storm (Largest since 1989!)</li>\n",
    "      <li><b>May 10 &ndash; 17:</b> Safehold</li>\n",
    "      <li><b>May 14 &ndash; June 22:</b> RGT excursion peaked at 286.526 km</li>\n",
    "      <li><b>May 28 &ndash; June 18:</b> Collected pure background</li>\n",
    "      <li><b>June 18:</b> Resumed RGT pointing on RGT 22</li>\n",
    "      <li><b>June 21:</b> Resumed Science Mode data collection on RGT 55</li>\n",
    "      <li><b>June 22:</b> Returned to nominal orbit</li>\n",
    "      <li><b>June 25:</b> Yaw flip to -X</li>\n",
    "      <li><b>June 27:</b> Resumed vegetation off-pointing and TOOs on RGT 145</li>\n",
    "      <li><b>June 29:</b> Completed on-orbit parameter optimization activities</li>\n",
    "    </ul>\n",
    "  </div>\n",
    "  <div style=\"width: 35%; margin: auto 5px;\">\n",
    "      <img style=\"width: 100%\" src=\"https://raw.githubusercontent.com/tsutterley/website-2024/IS2-assets/book/tutorials/mission-overview/images/solar_storm_2024.jpg\">\n",
    "  </div>\n",
    "</div>\n",
    "\n",
    "June 2024 ICESat-2 Project Science Office presentation"
   ]
  },
  {
   "cell_type": "markdown",
   "metadata": {},
   "source": [
    "<div style=\"display: inline-flex\">\n",
    "    <div style=\"margin: auto 5px\">\n",
    "\t\t<h3>ICESat-2 Mission Status</h3>\n",
    "\t\t<div>\n",
    "\t\t\t<h4>Future Mission Outlook</h4>\n",
    "\t\t\t\t<ul>\n",
    "\t\t\t\t\t<li>Current Status:<p style=\"display:inline;color:#65FF00\"><b> Nominal</b></p></li>\n",
    "\t\t\t\t\t<li>Performance metrics remain nominal and within mission requirements</li>\n",
    "\t\t\t\t\t<li>Over <p style=\"display:inline;color:#65FF00\"><b>2000</b></p> days in orbit</li>\n",
    "\t\t\t\t\t<li>Over 1.8 trillion laser pulses and 15 trillion photons returned</li>\n",
    "\t\t\t\t\t<li>Life-limiting factor is on-board fuel &rarr; dependent on solar activity</li>\n",
    "\t\t\t\t</ul>\n",
    "\t\t</div>\n",
    "\t\t<div>\n",
    "\t\t\t<h4>Mission Product Development</h4>\n",
    "\t\t\t\t<ul>\n",
    "\t\t\t\t\t<li>Target publication date of release 007 products: spring 2025</li>\n",
    "\t\t\t\t\t<li>Target publication date of ATL24 bathymetry product: late 2024 or early 2025</li>\n",
    "\t\t\t\t\t<li>Gridded Land and Vegetation Height product (ATL18) in development</li>\n",
    "\t\t\t\t\t<li>Gridded Sea Ice Freeboard Quicklook product (ATL20-QL) in development</li>\n",
    "\t\t\t\t\t<li>Possible future standard products are under development</li>\n",
    "\t\t\t\t</ul>\n",
    "\t\t</div>\n",
    "\t</div>\n",
    "</div>\n",
    "\n",
    "August 2024 ICESat-2 Project Science Office presentation"
   ]
  },
  {
   "cell_type": "markdown",
   "metadata": {},
   "source": [
    "<h3>Mission Lifetime Estimates</h3>\n",
    "<div style=\"text-align: center;\">\n",
    "    <img width=\"80%\" src=\"https://raw.githubusercontent.com/tsutterley/website-2024/IS2-assets/book/tutorials/mission-overview/images/IS2_EOL_2024-05.png\">\n",
    "</div>\n",
    "<div style=\"text-align: center; margin: auto 5px\">\n",
    "    <p style=\"display:inline;color:#65FF00\"><b>Current estimate for mean nominal End of Life: November 2035</b></p>\n",
    "</div>"
   ]
  },
  {
   "cell_type": "markdown",
   "metadata": {},
   "source": [
    "<div style=\"display: inline-flex; height: 400px; width: 100%\">\n",
    "    <div style=\"text-align: center; margin: auto 5px;\">\n",
    "        <h1 style=\"display:inline;color:#65FF00; line-height: 1.5em;\">Questions?</h1><br><br>\n",
    "        <div style=\"margin: auto 5px; line-height: 1.5em\">\n",
    "            <div><p style=\"display:inline;color:#65FF00\"><b>Website:</b></p> <a href=\"https://icesat-2.gsfc.nasa.gov\" style=\"color:#65FF00\">https://icesat-2.gsfc.nasa.gov</a></div>\n",
    "            <div><p style=\"display:inline;color:#65FF00\"><b>Data:</b></p> <a href=\"https://nsidc.org/data/icesat-2\" style=\"color:#65FF00\">https://nsidc.org/data/icesat-2</a></div>\n",
    "            <div><p style=\"display:inline;color:#65FF00\"><b>GitHub:</b></p> <a href=\"https://github.com/icesat-2\" style=\"color:#65FF00\">https://github.com/icesat-2</a></div>\n",
    "            <div><p style=\"display:inline;color:#65FF00\"><b>Slack:</b></p> <a href=\"https://icesat2-community.slack.com\" style=\"color:#65FF00\">https://icesat2-community.slack.com</a></div>\n",
    "        </div>\n",
    "    </div>\n",
    "</div>"
   ]
  }
 ],
 "metadata": {
  "interpreter": {
   "hash": "31f2aee4e71d21fbe5cf8b01ff0e069b9275f58929596ceb00d14d90e3e16cd6"
  },
  "kernelspec": {
   "display_name": "Python 3 (ipykernel)",
   "language": "python",
   "name": "python3"
  },
  "language_info": {
   "codemirror_mode": {
    "name": "ipython",
    "version": 3
   },
   "file_extension": ".py",
   "mimetype": "text/x-python",
   "name": "python",
   "nbconvert_exporter": "python",
   "pygments_lexer": "ipython3",
   "version": "3.10.14"
  }
 },
 "nbformat": 4,
 "nbformat_minor": 4
}

{
 "cells": [
  {
   "cell_type": "markdown",
   "metadata": {},
   "source": [
    "# Sample code notebook"
   ]
  },
  {
   "cell_type": "code",
   "execution_count": null,
   "metadata": {},
   "outputs": [],
   "source": [
    "import random"
   ]
  },
  {
   "cell_type": "code",
   "execution_count": null,
   "metadata": {},
   "outputs": [],
   "source": [
    "condiments_tray = [\"pickled walnuts\", \"steak sauce\", \"mushy peas\"]"
   ]
  },
  {
   "cell_type": "code",
   "execution_count": null,
   "metadata": {},
   "outputs": [],
   "source": [
    "class EggsellentCook:\n",
    "    FAVORITE_INGREDIENTS = (\"egg\", \"egg\", \"egg\")\n",
    "\n",
    "    def __init__(self):\n",
    "        self.ingredients = None\n",
    "        \n",
    "    def _add_ingredients(self, ingredients):\n",
    "        spices = [\"salt\", \"pepper\"]\n",
    "        you_can_never_have_enough_eggs = [\"egg\", \"egg\"]\n",
    "        spam = [\"lovely spam\", \"wonderous spam\"]\n",
    "        more_spam = [\"splendiferous spam\", \"magnificent spam\"]\n",
    "        ingredients = spices + you_can_never_have_enough_eggs + spam + more_spam\n",
    "        return ingredients\n",
    "    \n",
    "    def _prep_condiments(self, condiments):\n",
    "        condiments.append(\"mint sauce\")\n",
    "        return (\"Now this is what I call a condiments tray!\",)\n",
    "\n",
    "    def add_ingredients(self):\n",
    "        results = self._add_ingredients(\n",
    "            ingredients=self.FAVORITE_INGREDIENTS\n",
    "        )\n",
    "        my_ingredients = list(self.FAVORITE_INGREDIENTS)\n",
    "        self.ingredients = my_ingredients + results\n",
    "\n",
    "    def prepare_the_food(self):\n",
    "        random.shuffle(self.ingredients)\n",
    "\n",
    "    def serve_the_food(self):\n",
    "        condiment_comments = self._prep_condiments(\n",
    "            condiments=condiments_tray\n",
    "        )\n",
    "        print(f\"Your food. Enjoy some {', '.join(self.ingredients)}\")\n",
    "        print(f\"Some condiments? We have {', '.join(condiments_tray)}\")\n",
    "        if any(condiment_comments):\n",
    "            print(\"\\n\".join(condiment_comments))"
   ]
  },
  {
   "cell_type": "code",
   "execution_count": null,
   "metadata": {},
   "outputs": [],
   "source": [
    "cook = EggsellentCook()\n",
    "cook.add_ingredients()\n",
    "cook.prepare_the_food()\n",
    "cook.serve_the_food()"
   ]
  },
  {
   "cell_type": "code",
   "execution_count": null,
   "metadata": {},
   "outputs": [],
   "source": []
  }
 ],
 "metadata": {
  "kernelspec": {
   "display_name": "Python 3",
   "language": "python",
   "name": "python3"
  },
  "language_info": {
   "codemirror_mode": {
    "name": "ipython",
    "version": 3
   },
   "file_extension": ".py",
   "mimetype": "text/x-python",
   "name": "python",
   "nbconvert_exporter": "python",
   "pygments_lexer": "ipython3",
   "version": "3.11.9"
  }
 },
 "nbformat": 4,
 "nbformat_minor": 2
}

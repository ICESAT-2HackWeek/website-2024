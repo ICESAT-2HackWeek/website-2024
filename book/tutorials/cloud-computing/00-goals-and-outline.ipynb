{
 "cells": [
  {
   "cell_type": "markdown",
   "id": "a888b10c-1f9f-406e-8d14-9648be234d44",
   "metadata": {},
   "source": [
    "# Cloud Computing Tutorial\n",
    "\n",
    "<br />\n",
    "\n",
    "```{image} ./images/cloud.gif\n",
    ":width: 200px\n",
    ":align: center\n",
    "```\n",
    "\n",
    "**Welcome to the Cloud Computing Tutorial!**\n",
    "\n",
    "This tutorial is just the tip of the ice[SAT-2]berg (😬) of cloud computing. It focuses on accessing data stored in the cloud. An understanding of the difference between the \"download to local\" and \"direct from cloud\" methods of data access will explain how and why the cloud facilitates the scaling and reproducibility of your science.\n",
    "\n",
    ":::{admonition} Learning Goals\n",
    "\n",
    "**At the conclusion of this tutorial, you should be able to answer:**\n",
    "1. What is cloud computing?\n",
    "2. What is cloud object storage and the difference between data stored in the cloud, data on a local file system and data stored in \"on-premise\" data centers.\n",
    "3. How to optimize data for reading from cloud object storage.\n",
    "\n",
    ":::\n",
    "\n",
    "## Outline\n",
    "\n",
    "1. [What is cloud computing?](./01-cloud-computing.ipynb)\n",
    "   1. Definition of cloud computing\n",
    "   2. Exercise: Difference between resources on your local machine and resources in the cloud\n",
    "   3. Why you might use cloud computing\n",
    "2. [Accessing data in the cloud](./02-cloud-data-access.ipynb)\n",
    "   1. Definition of cloud object storage\n",
    "   2. Exercise: How many NASA datasets (aka collections) are in the cloud? How many ICESat-2 datasets are in the cloud? Which DAAC manages ICESast-2 data?\n",
    "   3. Difference between data stored in the cloud, data on a local file system and data stored in \"on-premise\" data centers\n",
    "   4. Why you might use cloud object storage\n",
    "3. [Cloud-Optimized Data](./03-cloud-optimized-data-access.ipynb)\n",
    "   1. What are we optimizing for and why?\n",
    "   2. Anatomy of a structured data file\n",
    "   3. Thought Exercise: Garage analogy\n",
    "   4. How do we optimize data for reading from cloud object storage?\n",
    "4. [Cloud-Optimized ICESat-2 Demo](./04-cloud-optimized-icesat2.ipynb)\n",
    "   1. Cloud-Optimized vs Cloud-Native \n",
    "   1. Creating an ICESat-2 GeoParquet\n",
    "   3. Plot the data with lonboard\n",
    "\n",
    "Or simply: Cloud -> Cloud data access -> Optimized cloud data access -> Demo with ICESat-2"
   ]
  }
 ],
 "metadata": {
  "kernelspec": {
   "display_name": "Python 3 (ipykernel)",
   "language": "python",
   "name": "python3"
  },
  "language_info": {
   "codemirror_mode": {
    "name": "ipython",
    "version": 3
   },
   "file_extension": ".py",
   "mimetype": "text/x-python",
   "name": "python",
   "nbconvert_exporter": "python",
   "pygments_lexer": "ipython3",
   "version": "3.11.9"
  }
 },
 "nbformat": 4,
 "nbformat_minor": 5
}

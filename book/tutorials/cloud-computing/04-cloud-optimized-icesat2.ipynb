{
 "cells": [
  {
   "cell_type": "raw",
   "metadata": {},
   "source": [
    "---\n",
    "nb_execution_mode: off\n",
    "---"
   ]
  },
  {
   "cell_type": "markdown",
   "metadata": {},
   "source": [
    "# Cloud-Optimized ICESat-2\n",
    "\n",
    "## Cloud-Optimized vs Cloud-Native\n",
    "\n",
    "Recall from [03-cloud-optimized-data-access.ipynb](./03-cloud-optimized-data-access.ipynb) that we can make any HDF5 file cloud-optimized by restructuring the file so that all the metadata is in one place and chunks are \"not too big\" and \"not too small\". However, as users of the data, not archivers, we don't control how the file is generated and distributed, so if we're restructuring the data we might want to go with something even better - a **\"cloud-native\"** format.\n",
    "\n",
    ":::{important} Cloud-Native Formats\n",
    "Cloud-native formats are formats that were designed specifically to be used in a cloud environment. This usually means that metadata and indexes for data is separated from metadata in a way that allows for logical dataset access across multiple files. In other words, it is fast to open a large dataset and access just the parts of it that you need.\n",
    ":::\n",
    "\n",
    ":::{warning}\n",
    "Generating cloud-native formats is non-trivial.\n",
    ":::\n",
    "\n",
    ":::{seealso}\n",
    "* https://eo-college.org/topics/cloud-native-data-formats/\n",
    "* https://guide.cloudnativegeo.org\n",
    ":::\n",
    "\n",
    "## Geoparquet\n",
    "\n",
    "To demonstrate one such cloud-native format, geoparquet, we have generated a geoparquet store (see [atl08_parquet.ipynb](./atl08_parquet_files/atl08_parquet.ipynb)) for the ATL08 dataset and will visualize it using a very performant geospatial vector visualization library, [`lonboard`](https://developmentseed.org/lonboard/latest/).\n",
    "\n",
    ":::{seealso} Resource on Geoparquet\n",
    "* https://guide.cloudnativegeo.org/geoparquet/\n",
    "* https://geoparquet.org/\n",
    ":::\n",
    "\n",
    "## Demo"
   ]
  },
  {
   "cell_type": "code",
   "execution_count": null,
   "metadata": {},
   "outputs": [],
   "source": [
    "import geopandas as gpd\n",
    "import pyarrow.parquet as pq\n",
    "from pyarrow import fs\n",
    "import pyarrow.dataset as ds\n",
    "from shapely import wkb\n",
    "\n",
    "s3  = fs.S3FileSystem(region=\"us-west-2\", anonymous=True)\n",
    "dataset = pq.ParquetDataset(\"eodc-public/atl08_parquet/\", filesystem=s3,\n",
    "                            partitioning=\"hive\", filters=[('year', '>=', 2021), ('year', '<=', 2021), ('month', '>=', 11), ('month', '<=', 11)])\n",
    "table = dataset.read(columns=[\"h_canopy\", \"geometry\"])\n",
    "df = table.to_pandas()\n",
    "df['geometry'] = df['geometry'].apply(wkb.loads)\n",
    "\n",
    "\n",
    "gdf = gpd.GeoDataFrame(df, geometry='geometry')\n",
    "null_value = gdf['h_canopy'].max() \n",
    "gdf_filtered = gdf.loc[gdf['h_canopy'] != null_value]\n",
    "gdf_filtered"
   ]
  },
  {
   "cell_type": "code",
   "execution_count": null,
   "metadata": {},
   "outputs": [],
   "source": [
    "gdf_filtered['h_canopy'].hist()"
   ]
  },
  {
   "cell_type": "code",
   "execution_count": null,
   "metadata": {},
   "outputs": [],
   "source": [
    "%%time\n",
    "from lonboard import Map, ScatterplotLayer\n",
    "from lonboard.colormap import apply_continuous_cmap\n",
    "from palettable.colorbrewer.diverging import BrBG_10\n",
    "\n",
    "min_bound = 0\n",
    "max_bound = 60\n",
    "h_canopy = gdf_filtered['h_canopy']\n",
    "h_canopy_normalized = (h_canopy - min_bound) / (max_bound - min_bound)\n",
    "\n",
    "layer = ScatterplotLayer.from_geopandas(gdf_filtered, radius_min_pixels=0.5)\n",
    "layer.get_fill_color = apply_continuous_cmap(h_canopy_normalized, BrBG_10, alpha=0.7)\n",
    "\n",
    "m = Map(layer)\n",
    "m.set_view_state(zoom=2)\n",
    "m"
   ]
  }
 ],
 "metadata": {
  "kernelspec": {
   "display_name": "Python 3 (ipykernel)",
   "language": "python",
   "name": "python3"
  },
  "language_info": {
   "codemirror_mode": {
    "name": "ipython",
    "version": 3
   },
   "file_extension": ".py",
   "mimetype": "text/x-python",
   "name": "python",
   "nbconvert_exporter": "python",
   "pygments_lexer": "ipython3",
   "version": "3.11.9"
  }
 },
 "nbformat": 4,
 "nbformat_minor": 4
}

{
 "cells": [
  {
   "cell_type": "markdown",
   "metadata": {},
   "source": [
    "# Cloud-Optimized ICESat-2\n",
    "\n",
    "## Cloud-Optimized vs Cloud-Native\n",
    "\n",
    "Recall from [03-cloud-optimized-data-access.ipynb](./03-cloud-optimized-data-access.ipynb) that we can make any HDF5 file cloud-optimized by restructuring the file so that all the metadata is in one place and chunks are \"not too big\" and \"not too small\". However, as users of the data, not archivers, we don't control how the file is generated and distributed, so if we're restructuring the data we might want to go with something even better - a **\"cloud-native\"** format.\n",
    "\n",
    ":::{important} Cloud-Native Formats\n",
    "Cloud-native formats are formats that were designed specifically to be used in a cloud environment. This usually means that metadata and indexes for data is separated from metadata in a way that allows for logical dataset access across multiple files. In other words, it is fast to open a large dataset and access just the parts of it that you need.\n",
    ":::\n",
    "\n",
    ":::{warning}\n",
    "Generating cloud-native formats is non-trivial.\n",
    ":::\n",
    "\n",
    ":::{seealso}\n",
    "* https://eo-college.org/topics/cloud-native-data-formats/\n",
    "* https://guide.cloudnativegeo.org\n",
    ":::\n",
    "\n",
    "## Geoparquet\n",
    "\n",
    "To demonstrate one such cloud-native format, geoparquet, we have generated a geoparquet store (see [atl08_parquet.ipynb](./atl08_parquet_files/atl08_parquet.ipynb)) for the ATL08 dataset and will visualize it using a very performant geospatial vector visualization library, [`lonboard`](https://developmentseed.org/lonboard/latest/).\n",
    "\n",
    ":::{seealso} Resource on Geoparquet\n",
    "* https://guide.cloudnativegeo.org/geoparquet/\n",
    "* https://geoparquet.org/\n",
    ":::\n",
    "\n",
    "## Demo"
   ]
  },
  {
   "cell_type": "code",
   "execution_count": 3,
   "metadata": {},
   "outputs": [
    {
     "data": {
      "text/html": [
       "<div>\n",
       "<style scoped>\n",
       "    .dataframe tbody tr th:only-of-type {\n",
       "        vertical-align: middle;\n",
       "    }\n",
       "\n",
       "    .dataframe tbody tr th {\n",
       "        vertical-align: top;\n",
       "    }\n",
       "\n",
       "    .dataframe thead th {\n",
       "        text-align: right;\n",
       "    }\n",
       "</style>\n",
       "<table border=\"1\" class=\"dataframe\">\n",
       "  <thead>\n",
       "    <tr style=\"text-align: right;\">\n",
       "      <th></th>\n",
       "      <th>h_canopy</th>\n",
       "      <th>geometry</th>\n",
       "    </tr>\n",
       "  </thead>\n",
       "  <tbody>\n",
       "    <tr>\n",
       "      <th>0</th>\n",
       "      <td>17.453796</td>\n",
       "      <td>POINT (-52.29471 -26.99078)</td>\n",
       "    </tr>\n",
       "    <tr>\n",
       "      <th>1</th>\n",
       "      <td>19.481018</td>\n",
       "      <td>POINT (-52.29480 -26.98988)</td>\n",
       "    </tr>\n",
       "    <tr>\n",
       "      <th>2</th>\n",
       "      <td>21.340637</td>\n",
       "      <td>POINT (-52.29490 -26.98898)</td>\n",
       "    </tr>\n",
       "    <tr>\n",
       "      <th>3</th>\n",
       "      <td>28.491821</td>\n",
       "      <td>POINT (-52.29500 -26.98808)</td>\n",
       "    </tr>\n",
       "    <tr>\n",
       "      <th>4</th>\n",
       "      <td>41.652527</td>\n",
       "      <td>POINT (-52.29510 -26.98719)</td>\n",
       "    </tr>\n",
       "    <tr>\n",
       "      <th>...</th>\n",
       "      <td>...</td>\n",
       "      <td>...</td>\n",
       "    </tr>\n",
       "    <tr>\n",
       "      <th>1870365</th>\n",
       "      <td>48.303154</td>\n",
       "      <td>POINT (-44.09986 -2.68297)</td>\n",
       "    </tr>\n",
       "    <tr>\n",
       "      <th>1870374</th>\n",
       "      <td>23.472631</td>\n",
       "      <td>POINT (-44.10197 -2.66132)</td>\n",
       "    </tr>\n",
       "    <tr>\n",
       "      <th>1870423</th>\n",
       "      <td>11.832104</td>\n",
       "      <td>POINT (-44.11124 -2.57115)</td>\n",
       "    </tr>\n",
       "    <tr>\n",
       "      <th>1870462</th>\n",
       "      <td>3.599800</td>\n",
       "      <td>POINT (-44.12907 -2.38984)</td>\n",
       "    </tr>\n",
       "    <tr>\n",
       "      <th>1870505</th>\n",
       "      <td>4.053785</td>\n",
       "      <td>POINT (-44.13858 -2.29970)</td>\n",
       "    </tr>\n",
       "  </tbody>\n",
       "</table>\n",
       "<p>771701 rows × 2 columns</p>\n",
       "</div>"
      ],
      "text/plain": [
       "          h_canopy                     geometry\n",
       "0        17.453796  POINT (-52.29471 -26.99078)\n",
       "1        19.481018  POINT (-52.29480 -26.98988)\n",
       "2        21.340637  POINT (-52.29490 -26.98898)\n",
       "3        28.491821  POINT (-52.29500 -26.98808)\n",
       "4        41.652527  POINT (-52.29510 -26.98719)\n",
       "...            ...                          ...\n",
       "1870365  48.303154   POINT (-44.09986 -2.68297)\n",
       "1870374  23.472631   POINT (-44.10197 -2.66132)\n",
       "1870423  11.832104   POINT (-44.11124 -2.57115)\n",
       "1870462   3.599800   POINT (-44.12907 -2.38984)\n",
       "1870505   4.053785   POINT (-44.13858 -2.29970)\n",
       "\n",
       "[771701 rows x 2 columns]"
      ]
     },
     "execution_count": 3,
     "metadata": {},
     "output_type": "execute_result"
    }
   ],
   "source": [
    "import geopandas as gpd\n",
    "import pyarrow.parquet as pq\n",
    "from pyarrow import fs\n",
    "import pyarrow.dataset as ds\n",
    "from shapely import wkb\n",
    "\n",
    "s3  = fs.S3FileSystem(region=\"us-west-2\", anonymous=True)\n",
    "dataset = pq.ParquetDataset(\"eodc-public/atl08_parquet/\", filesystem=s3,\n",
    "                            partitioning=\"hive\", filters=[('year', '>=', 2021), ('year', '<=', 2021), ('month', '>=', 11), ('month', '<=', 11)])\n",
    "table = dataset.read(columns=[\"h_canopy\", \"geometry\"])\n",
    "df = table.to_pandas()\n",
    "df['geometry'] = df['geometry'].apply(wkb.loads)\n",
    "\n",
    "\n",
    "gdf = gpd.GeoDataFrame(df, geometry='geometry')\n",
    "null_value = gdf['h_canopy'].max() \n",
    "gdf_filtered = gdf.loc[gdf['h_canopy'] != null_value]\n",
    "gdf_filtered"
   ]
  },
  {
   "cell_type": "code",
   "execution_count": 17,
   "metadata": {},
   "outputs": [
    {
     "data": {
      "text/plain": [
       "<Axes: >"
      ]
     },
     "execution_count": 17,
     "metadata": {},
     "output_type": "execute_result"
    },
    {
     "data": {
      "image/png": "[encoded data removed]",
      "text/plain": [
       "<Figure size 640x480 with 1 Axes>"
      ]
     },
     "metadata": {},
     "output_type": "display_data"
    }
   ],
   "source": [
    "gdf_filtered['h_canopy'].hist()"
   ]
  },
  {
   "cell_type": "code",
   "execution_count": 24,
   "metadata": {},
   "outputs": [
    {
     "name": "stderr",
     "output_type": "stream",
     "text": [
      "/srv/conda/envs/notebook/lib/python3.11/site-packages/lonboard/_geoarrow/ops/reproject.py:23: UserWarning: No CRS exists on data. If no data is shown on the map, double check that your CRS is WGS84.\n",
      "  warn(\n"
     ]
    },
    {
     "name": "stdout",
     "output_type": "stream",
     "text": [
      "CPU times: user 1.1 s, sys: 167 ms, total: 1.27 s\n",
      "Wall time: 1.26 s\n"
     ]
    },
    {
     "data": {
      "application/vnd.jupyter.widget-view+json": {
       "model_id": "b53bfccf2f794cfab11cfacbdaef7102",
       "version_major": 2,
       "version_minor": 1
      },
      "text/plain": [
       "Map(layers=[ScatterplotLayer(get_fill_color=<pyarrow.lib.FixedSizeListArray object at 0x7fd15490a9e0>\n",
       "[\n",
       "  [\n",
       "  …"
      ]
     },
     "execution_count": 24,
     "metadata": {},
     "output_type": "execute_result"
    }
   ],
   "source": [
    "%%time\n",
    "from lonboard import Map, ScatterplotLayer\n",
    "from lonboard.colormap import apply_continuous_cmap\n",
    "from palettable.colorbrewer.diverging import BrBG_10\n",
    "\n",
    "min_bound = 0\n",
    "max_bound = 60\n",
    "h_canopy = gdf_filtered['h_canopy']\n",
    "h_canopy_normalized = (h_canopy - min_bound) / (max_bound - min_bound)\n",
    "\n",
    "layer = ScatterplotLayer.from_geopandas(gdf_filtered, radius_min_pixels=0.5)\n",
    "layer.get_fill_color = apply_continuous_cmap(h_canopy_normalized, BrBG_10, alpha=0.7)\n",
    "\n",
    "m = Map(layer)\n",
    "m.set_view_state(zoom=2)\n",
    "m"
   ]
  }
 ],
 "metadata": {
  "kernelspec": {
   "display_name": "Python 3 (ipykernel)",
   "language": "python",
   "name": "python3"
  },
  "language_info": {
   "codemirror_mode": {
    "name": "ipython",
    "version": 3
   },
   "file_extension": ".py",
   "mimetype": "text/x-python",
   "name": "python",
   "nbconvert_exporter": "python",
   "pygments_lexer": "ipython3",
   "version": "3.11.9"
  }
 },
 "nbformat": 4,
 "nbformat_minor": 4
}

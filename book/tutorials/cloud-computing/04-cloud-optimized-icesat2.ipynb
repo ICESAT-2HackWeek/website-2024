{
 "cells": [
  {
   "cell_type": "markdown",
   "metadata": {},
   "source": [
    "# Cloud Optimized ICESat-2\n",
    "\n",
    "## HDF5 and Cloud-Optimised HDF5\n",
    "\n",
    "## Zarr\n",
    "\n",
    "## Geoparquet\n",
    "\n",
    "## Demo"
   ]
  }
 ],
 "metadata": {
  "kernelspec": {
   "display_name": "Python 3 (ipykernel)",
   "language": "python",
   "name": "python3"
  },
  "language_info": {
   "codemirror_mode": {
    "name": "ipython",
    "version": 3
   },
   "file_extension": ".py",
   "mimetype": "text/x-python",
   "name": "python",
   "nbconvert_exporter": "python",
   "pygments_lexer": "ipython3",
   "version": "3.11.9"
  }
 },
 "nbformat": 4,
 "nbformat_minor": 4
}

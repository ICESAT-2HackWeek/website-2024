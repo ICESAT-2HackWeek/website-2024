{
 "cells": [
  {
   "cell_type": "markdown",
   "metadata": {},
   "source": [
    "# Cloud-Optimized ICESat-2\n",
    "\n",
    "## Cloud-Optimized HDF5\n",
    "\n",
    "Recall from [03-cloud-optimized-data-access.ipynb](./03-cloud-optimized-data-access.ipynb) that we can make any HDF5 file cloud-optimized by restructuring the file so that all the metadata is in one place and chunks are \"not too big\" and \"not too small\". However, as users of the data, not archivers, we don't control how the file is generated and distributed, so if we're restructuring the data we might want to go with something even better - a **\"cloud-native\"** format.\n",
    "\n",
    ":::{important} Cloud-Native Formats\n",
    "Cloud-native formats are formats that were designed to be used in a cloud environment. This usually means that metadata and indexes for data is separated from metadata in a way that allows for logical dataset access across multiple files. In other words, it is fast to open a large dataset and access just the parts of it that you need.\n",
    ":::\n",
    "\n",
    ":::{warning}\n",
    "Generating cloud-native formats is non-trivial.\n",
    ":::\n",
    "\n",
    "## Geoparquet\n",
    "\n",
    "To demonstrate one such cloud-native format, geoparquet, we have generated a geoparquet store (see the atl08_parquet_files for more code/) for the ATL08 dataset and will visualize it using a very performant geospatial vector visualization library, [`lonboard`](https://developmentseed.org/lonboard/latest/).\n",
    "\n",
    ":::{seealso} Resource on Geoparquet\n",
    "* https://guide.cloudnativegeo.org/geoparquet/\n",
    "* https://geoparquet.org/\n",
    ":::\n",
    "\n",
    "## Demo"
   ]
  },
  {
   "cell_type": "code",
   "execution_count": 1,
   "metadata": {},
   "outputs": [
    {
     "ename": "ModuleNotFoundError",
     "evalue": "No module named 'geopandas'",
     "output_type": "error",
     "traceback": [
      "\u001b[0;31m---------------------------------------------------------------------------\u001b[0m",
      "\u001b[0;31mModuleNotFoundError\u001b[0m                       Traceback (most recent call last)",
      "Cell \u001b[0;32mIn[1], line 1\u001b[0m\n\u001b[0;32m----> 1\u001b[0m \u001b[38;5;28;01mimport\u001b[39;00m \u001b[38;5;21;01mgeopandas\u001b[39;00m \u001b[38;5;28;01mas\u001b[39;00m \u001b[38;5;21;01mgpd\u001b[39;00m\n\u001b[1;32m      2\u001b[0m \u001b[38;5;28;01mimport\u001b[39;00m \u001b[38;5;21;01mpyarrow\u001b[39;00m\u001b[38;5;21;01m.\u001b[39;00m\u001b[38;5;21;01mparquet\u001b[39;00m \u001b[38;5;28;01mas\u001b[39;00m \u001b[38;5;21;01mpq\u001b[39;00m\n\u001b[1;32m      3\u001b[0m \u001b[38;5;28;01mfrom\u001b[39;00m \u001b[38;5;21;01mpyarrow\u001b[39;00m \u001b[38;5;28;01mimport\u001b[39;00m fs\n",
      "\u001b[0;31mModuleNotFoundError\u001b[0m: No module named 'geopandas'"
     ]
    }
   ],
   "source": [
    "import geopandas as gpd\n",
    "import pyarrow.parquet as pq\n",
    "from pyarrow import fs\n",
    "import pyarrow.dataset as ds\n",
    "from shapely import wkb\n",
    "\n",
    "s3  = fs.S3FileSystem(region=\"us-west-2\", anonymous=True)\n",
    "dataset = pq.ParquetDataset(\"eodc-public/atl08_parquet/\", filesystem=s3,\n",
    "                            partitioning=\"hive\", filters=[('year', '>=', 2021), ('year', '<=', 2021), ('month', '>=', 11), ('month', '<=', 11)])\n",
    "table = dataset.read(columns=[\"h_canopy\", \"geometry\"])\n",
    "df = table.to_pandas()\n",
    "df['geometry'] = df['geometry'].apply(wkb.loads)\n",
    "\n",
    "\n",
    "gdf = gpd.GeoDataFrame(df, geometry='geometry')\n",
    "gdf"
   ]
  },
  {
   "cell_type": "code",
   "execution_count": null,
   "metadata": {},
   "outputs": [],
   "source": [
    "%%time\n",
    "from lonboard import Map, ScatterplotLayer\n",
    "from lonboard.colormap import apply_continuous_cmap\n",
    "from palettable.colorbrewer.diverging import BrBG_10\n",
    "\n",
    "h_canopy = gdf_filtered['h_canopy']\n",
    "layer.get_fill_color = apply_continuous_cmap(h_canopy, BrBG_10, alpha=0.7)\n",
    "\n",
    "m = Map(layer)\n",
    "m"
   ]
  },
  {
   "cell_type": "code",
   "execution_count": null,
   "metadata": {},
   "outputs": [],
   "source": []
  }
 ],
 "metadata": {
  "kernelspec": {
   "display_name": "base",
   "language": "python",
   "name": "base"
  },
  "language_info": {
   "codemirror_mode": {
    "name": "ipython",
    "version": 3
   },
   "file_extension": ".py",
   "mimetype": "text/x-python",
   "name": "python",
   "nbconvert_exporter": "python",
   "pygments_lexer": "ipython3",
   "version": "3.12.2"
  }
 },
 "nbformat": 4,
 "nbformat_minor": 4
}

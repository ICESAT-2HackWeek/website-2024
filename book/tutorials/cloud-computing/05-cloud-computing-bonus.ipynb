{
 "cells": [
  {
   "cell_type": "markdown",
   "metadata": {},
   "source": [
    "# Brief introduction to cloud computing\n",
    "\n",
    "Congrats, you're already using cloud computing (if you have logged into cryo cloud)! This jupyterhub server is running in AWS so all of your computations are happening there. BONUS, any data located in us-west-2 (Oregon) is free and fast to transfer to this environment because it's located in the same AWS region.\n",
    "\n",
    "### 2. Elastic Compute Servers (aka Virtual Machines)\n",
    "\n",
    "https://aws.amazon.com/ec2/\n",
    "\n",
    "### 3. Serverless Computing\n",
    "\n",
    "Serverless technologies mean you can run code without managing servers. You can setup a function on AWS Lambda and only pay for the time and memory it takes to execute those functions.\n",
    "\n",
    "[Some demo of serverless computing]\n",
    "\n",
    "By the way, it's elastic compute all the way down. In other words, many AWS services are built on top of elastic compute servers.\n",
    "\n",
    "## AWS and regions\n",
    "\n",
    "## Some AWS services to be aware of\n",
    "\n",
    "* Storage - S3\n",
    "* Compute - EC2, Lambda\n",
    "* Database - RDS, DynamoDB\n",
    "* Machine Learning - SageMaker\n",
    "* Networking - VPC, Route 53\n",
    "\n",
    "maybe some demo of these services\n",
    "\n",
    "## Some other popular cloud computing services\n",
    "\n",
    "Dask/Coiled\n",
    "GEE"
   ]
  }
 ],
 "metadata": {
  "kernelspec": {
   "display_name": "Python 3 (ipykernel)",
   "language": "python",
   "name": "python3"
  },
  "language_info": {
   "codemirror_mode": {
    "name": "ipython",
    "version": 3
   },
   "file_extension": ".py",
   "mimetype": "text/x-python",
   "name": "python",
   "nbconvert_exporter": "python",
   "pygments_lexer": "ipython3",
   "version": "3.11.9"
  }
 },
 "nbformat": 4,
 "nbformat_minor": 4
}

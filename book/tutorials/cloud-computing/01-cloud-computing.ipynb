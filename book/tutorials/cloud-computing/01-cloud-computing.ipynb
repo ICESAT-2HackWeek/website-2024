{
 "cells": [
  {
   "attachments": {},
   "cell_type": "markdown",
   "metadata": {},
   "source": [
    "# What is cloud computing?\n",
    "\n",
    "<br />\n",
    "\n",
    "**Cloud computing is compute and storage as a service.** The term \"cloud computing\" is typically used to refer to commercial cloud service providers such as Amazon Web Services (AWS), Google Cloud Platform (GCP), and Microsoft Azure (Azure). These cloud service providers all offer a wide range of computing services, only a few of which we will cover today, via a pay-as-you-go payment structure.\n",
    "\n",
    "```{image} ./images/AWS_OurDataCenters_Background.jpg\n",
    ":width: 600px\n",
    ":align: center\n",
    "```\n",
    "\n",
    "<p style=\"font-size: 10px;\">image src: https://aws.amazon.com/compliance/data-center/data-centers/</p>\n",
    "\n",
    ">Cloud computing is the on-demand delivery of IT resources over the Internet with pay-as-you-go pricing. Instead of buying, owning, and maintaining physical data centers and servers, you can access technology services, such as computing power, storage, and databases, on an as-needed basis from a cloud provider like Amazon Web Services (AWS). ([source](https://aws.amazon.com/what-is-cloud-computing/))\n",
    "\n",
    "This tutorial will focus on AWS services and terminology, but Google Cloud and Microsoft Azure offer the same services.\n",
    "\n",
    ":::{dropdown} 🏋️ Exercise: How many CPUs and how much memory does your laptop have? And how does that compare with hub.cryocloud?</h3>\n",
    ":open:\n",
    "If you have your laptop available, open the terminal app and use the appropriate commands to determine CPU and memory.\n",
    "\n",
    "<div style=\"width:60%; padding: 30px;\">\n",
    "\n",
    "| Operating System (OS) | CPU command                                                                       | Memory Command             |\n",
    "|-----------------------|-----------------------------------------------------------------------------------|----------------------------|\n",
    "| MacOS                 | `sysctl -a \\| grep hw.ncpu`                                            | `top -l 1 \\| grep PhysMem` |\n",
    "| Linux (cryocloud)     | `lscpu \\| grep \"^CPU\\(s\\):\"`                                            | `free -h`       |    \n",
    "| Windows               | https://www.top-password.com/blog/find-number-of-cores-in-your-cpu-on-windows-10/ |                            |\n",
    "</div>\n",
    "\n",
    "Now do the same but on hub.cryointhecloud.com.\n",
    "\n",
    "Tip: When logged into cryocloud, you can click the ![kernel usage icon](./images/tachometer-alt_1.png) icon on the far-right toolbar.\n",
    ":::\n",
    "\n",
    "**What did you find?** It's possible you found that your machine has **more** CPU and/or memory than cryocloud!\n",
    "\n",
    ":::{dropdown} So why would we want to use the cloud and not our personal computers?\n",
    "  1. Because cryocloud has all the dependencies you need.\n",
    "  2. Because cryocloud is \"close\" to the data (more on this later).\n",
    "  3. Because you can use larger and bigger machines in the cloud (more on this later).\n",
    "  4. **Having the dependencies, data, and runtime environment in the cloud can simplify reproducible science.**\n",
    ":::\n",
    "\n",
    ":::{admonition} Takeaways\n",
    "\n",
    "* The cloud allows you to access many computing and storage services over the internet. Most cloud services are offered via a \"pay as you go\" model.\n",
    "* Hubs like CryoCloud provide a virtual environment which simplifies reproducible science. You should use them whenever you can!\n",
    ":::"
   ]
  }
 ],
 "metadata": {
  "kernelspec": {
   "display_name": "Python 3 (ipykernel)",
   "language": "python",
   "name": "python3"
  },
  "language_info": {
   "codemirror_mode": {
    "name": "ipython",
    "version": 3
   },
   "file_extension": ".py",
   "mimetype": "text/x-python",
   "name": "python",
   "nbconvert_exporter": "python",
   "pygments_lexer": "ipython3",
   "version": "3.11.9"
  }
 },
 "nbformat": 4,
 "nbformat_minor": 4
}
